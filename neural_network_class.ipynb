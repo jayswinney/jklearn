{
 "cells": [
  {
   "cell_type": "code",
   "execution_count": 2,
   "metadata": {
    "collapsed": false,
    "scrolled": true
   },
   "outputs": [],
   "source": [
    "from __future__ import division\n",
    "\n",
    "import time\n",
    "\n",
    "import numpy as np\n",
    "import numpy.matlib\n",
    "from matplotlib import pyplot as plt\n",
    "import seaborn as sns\n",
    "\n",
    "from sklearn.datasets import load_iris\n",
    "from sklearn.datasets import load_digits\n",
    "from sklearn.metrics import confusion_matrix, classification_report\n",
    "from sklearn.preprocessing import LabelBinarizer\n",
    "from sklearn.cross_validation import train_test_split"
   ]
  },
  {
   "cell_type": "code",
   "execution_count": 3,
   "metadata": {
    "collapsed": true
   },
   "outputs": [],
   "source": [
    "%matplotlib inline"
   ]
  },
  {
   "cell_type": "code",
   "execution_count": 4,
   "metadata": {
    "collapsed": true
   },
   "outputs": [],
   "source": [
    "iris = load_iris()\n",
    "x_iris = iris['data']\n",
    "y_iris = map(lambda x: np.array([1 if i == x else 0 for i in range(3)]),\n",
    "        iris['target'])\n",
    "y_iris = np.array(y_iris)"
   ]
  },
  {
   "cell_type": "code",
   "execution_count": 13,
   "metadata": {
    "collapsed": false
   },
   "outputs": [
    {
     "data": {
      "text/plain": [
       "(150L, 3L)"
      ]
     },
     "execution_count": 13,
     "metadata": {},
     "output_type": "execute_result"
    }
   ],
   "source": [
    "y_iris.shape"
   ]
  },
  {
   "cell_type": "code",
   "execution_count": 5,
   "metadata": {
    "collapsed": false
   },
   "outputs": [],
   "source": [
    "sigmoid = np.vectorize(lambda x: 1.0/(1.0+np.exp(-x)))\n",
    "sig = lambda x: 1.0/(1.0+np.exp(-x))\n",
    "sig_d = lambda x: sig(x) * (1 - sig(x))\n",
    "sigmoid_d = np.vectorize(lambda x: sig(x) * (1 - sig(x)))\n",
    "\n",
    "tanh_d = lambda x: 1 - np.square(np.tanh(x))"
   ]
  },
  {
   "cell_type": "code",
   "execution_count": 6,
   "metadata": {
    "collapsed": true
   },
   "outputs": [],
   "source": [
    "def log_loss(y, yhat):\n",
    "    return np.sum(-(y*np.log(yhat) + (1 - y)*np.log(1 - yhat)))"
   ]
  },
  {
   "cell_type": "code",
   "execution_count": 7,
   "metadata": {
    "collapsed": false,
    "scrolled": false
   },
   "outputs": [],
   "source": [
    "class neural_network:\n",
    "    \n",
    "    def __init__(self, sizes, activation = sigmoid, act_d = sigmoid_d):\n",
    "        '''\n",
    "        one required arguement: a list with the layer sizes\n",
    "        can be used for classification or regression\n",
    "        '''\n",
    "        self.num_layers = len(sizes)\n",
    "        self.sizes = sizes\n",
    "        self.biases = [np.random.randn(x) for x in sizes[1:]]\n",
    "        self.weights = [np.random.randn(y, x) \n",
    "                        for x, y in zip(sizes[:-1], sizes[1:])]\n",
    "        \n",
    "        self.velocity_biases = [np.zeros(x) for x in sizes[1:]]\n",
    "        self.velocity_weights = [np.zeros((y, x)) for x, y in\n",
    "                                 zip(sizes[:-1], sizes[1:])]\n",
    "        \n",
    "        self.a = [np.zeros(x) for x in sizes]\n",
    "        self.a_vec = []\n",
    "        self.activation = activation\n",
    "        self.act_d = act_d\n",
    "        self.z = [np.zeros(x) for x in sizes[1:]]\n",
    "        self.z_vec = []\n",
    "        \n",
    "        \n",
    "    def predict(self,x):\n",
    "        self.a_vec = []\n",
    "        self.z_vec = []\n",
    "        self.a_vec = [x]\n",
    "        m = x.shape[0]\n",
    "        biases = [np.matlib.repmat(b, m, 1) for b in self.biases]\n",
    "        for w, b in zip(self.weights, biases):\n",
    "            z = np.dot(w, x.T).T + b\n",
    "            self.z_vec.append(z)\n",
    "            x = sig(z)\n",
    "            self.a_vec.append(x)\n",
    "        \n",
    "        return x      \n",
    "                \n",
    "\n",
    "    def back_prop(self, x, y):\n",
    "        '''\n",
    "        vectorized back propigation\n",
    "        '''\n",
    "        nabla_w = [None for l in self.weights]\n",
    "        nabla_b = [None for l in self.weights]\n",
    "        deltas = [None for l in self.sizes]\n",
    "        yhat = self.predict(x)\n",
    "        deltas[-1] = yhat - y\n",
    "        for l in range(1, self.num_layers - 1)[::-1]:\n",
    "            w = self.weights[l]\n",
    "            a = self.a_vec[l]\n",
    "            z = self.z_vec[l-1]\n",
    "            deltas[l] = (np.dot(w.T, deltas[l+1].T) * sig_d(z).T).T\n",
    "        for l in range(0, self.num_layers-1):\n",
    "            nabla_w[l] =  np.dot(deltas[l+1].T, self.a_vec[l])\n",
    "            nabla_b[l] = deltas[l+1]\n",
    "        return nabla_w, [b.sum(axis = 0) for b in nabla_b]\n",
    "    \n",
    "\n",
    "                \n",
    "    def gradient_descent(self, x, y, lr, Lambda, u):\n",
    "        '''\n",
    "        vectorized gradient descent function.\n",
    "        performas a single gradient descent update on the weights and biases\n",
    "        lr: learning rate\n",
    "        Lambda: regularization parameter\n",
    "        u: velocity coeficient\n",
    "        '''\n",
    "        m = len(x)\n",
    "        delta_weights, delta_biases = self.back_prop(x, y)          \n",
    "        # update velocity values\n",
    "        self.velocity_weights = [wv * u - wg/m for wg, wv in\n",
    "                                 zip(delta_weights, self.velocity_weights)]\n",
    "        self.velocity_biases = [bv * u - bg/m for bg, bv in \n",
    "                                zip(delta_biases, self.velocity_biases)]\n",
    "        # update parameters\n",
    "        self.weights = [w + lr * (wv + Lambda * w) for\n",
    "                        wv, w in zip(self.velocity_weights, self.weights)]\n",
    "        \n",
    "        self.biases = [b + lr * bv for bv, b\n",
    "                        in zip(self.velocity_biases, self.biases)]\n",
    "        \n",
    "    \n",
    "    def fit(self, x, y, batch_size, test_x, test_y,\n",
    "            learning_rate = 0.01, Lambda = 1e-4,\n",
    "            velocity_coef = 1, epochs = 1, return_cost = False): \n",
    "        '''\n",
    "        train the neural network using minibatch gradient descent\n",
    "        '''\n",
    "        if return_cost:\n",
    "            cost = []\n",
    "        for e in xrange(epochs):\n",
    "#             if e % 4 == 0:\n",
    "#                 print e\n",
    "            # create mini batches for minibatch gradient descent\n",
    "            m = len(x)\n",
    "            index = np.array(range(m))\n",
    "            np.random.shuffle(index)\n",
    "            batch_size = 8\n",
    "            num_batches = round(m/batch_size,0)\n",
    "            batches = np.array_split(index, num_batches)\n",
    "            for batch in batches:\n",
    "                self.gradient_descent(x[batch], y[batch], learning_rate,\n",
    "                                      Lambda, velocity_coef)\n",
    "            if return_cost:\n",
    "                cost.append(log_loss(test_y, self.predict(test_x)))\n",
    "        \n",
    "        if return_cost:\n",
    "            return cost"
   ]
  },
  {
   "cell_type": "code",
   "execution_count": 8,
   "metadata": {
    "collapsed": true
   },
   "outputs": [],
   "source": [
    "digits = load_digits()\n",
    "X = digits.data\n",
    "y = digits.target\n",
    "X -= X.min() # normalize the values to bring them into the range 0-1\n",
    "X /= X.max()\n",
    "\n",
    "X_train, X_test, y_train, y_test = train_test_split(X, y)\n",
    "labels_train = LabelBinarizer().fit_transform(y_train)\n",
    "labels_test = LabelBinarizer().fit_transform(y_test)"
   ]
  },
  {
   "cell_type": "code",
   "execution_count": 35,
   "metadata": {
    "collapsed": false
   },
   "outputs": [],
   "source": [
    "my_nn2 = neural_network([64, 100, 10])\n",
    "\n",
    "cost2 = my_nn2.fit(X_train, labels_train, batch_size = 10,\n",
    "                 Lambda = 1e-4, learning_rate = 0.1,\n",
    "                 epochs = 100, return_cost = True,\n",
    "                 velocity_coef = 0.2,\n",
    "                 test_x = X_test,\n",
    "                 test_y = labels_test)"
   ]
  },
  {
   "cell_type": "code",
   "execution_count": 36,
   "metadata": {
    "collapsed": false
   },
   "outputs": [
    {
     "name": "stdout",
     "output_type": "stream",
     "text": [
      "[[52  0  0  0  0  0  0  0  0]\n",
      " [ 0 39  0  0  0  0  0  0  0]\n",
      " [ 0  1 41  0  0  0  0  0  0]\n",
      " [ 0  0  0 36  0  1  0  0  1]\n",
      " [ 0  0  0  0 51  0  0  0  0]\n",
      " [ 0  0  0  0  0 47  0  0  0]\n",
      " [ 0  0  0  0  0  0 40  0  0]\n",
      " [ 0  0  0  0  1  0  0 58  1]\n",
      " [ 0  1  0  0  0  0  0  0 42]]\n",
      "             precision    recall  f1-score   support\n",
      "\n",
      "          0       1.00      1.00      1.00        52\n",
      "          1       0.95      1.00      0.97        39\n",
      "          2       1.00      0.98      0.99        42\n",
      "          3       1.00      0.92      0.96        39\n",
      "          4       0.98      1.00      0.99        51\n",
      "          5       0.98      0.98      0.98        48\n",
      "          6       1.00      1.00      1.00        40\n",
      "          7       1.00      0.97      0.98        60\n",
      "          8       0.93      0.98      0.95        43\n",
      "          9       0.95      0.97      0.96        36\n",
      "\n",
      "avg / total       0.98      0.98      0.98       450\n",
      "\n"
     ]
    },
    {
     "data": {
      "text/plain": [
       "[<matplotlib.lines.Line2D at 0x2008b550>]"
      ]
     },
     "execution_count": 36,
     "metadata": {},
     "output_type": "execute_result"
    },
    {
     "data": {
      "image/png": "[encoded data removed]",
      "text/plain": [
       "<matplotlib.figure.Figure at 0x1f457898>"
      ]
     },
     "metadata": {},
     "output_type": "display_data"
    }
   ],
   "source": [
    "yhat = my_nn2.predict(X_test)\n",
    "yhat_vec = np.argmax(yhat, axis = 1)\n",
    "print confusion_matrix(np.argmax(labels_test, axis = 1),\n",
    "                       yhat_vec, labels = range(9))\n",
    "\n",
    "print classification_report(np.argmax(labels_test, axis = 1),\n",
    "                            yhat_vec)\n",
    "plt.plot(np.array(cost2)/len(labels_test))"
   ]
  },
  {
   "cell_type": "code",
   "execution_count": 8,
   "metadata": {
    "collapsed": true
   },
   "outputs": [],
   "source": [
    "import pandas as pd"
   ]
  },
  {
   "cell_type": "code",
   "execution_count": 9,
   "metadata": {
    "collapsed": true
   },
   "outputs": [],
   "source": [
    "minst_df = pd.read_csv('C:/Users/jay.swinney/Desktop/minst.csv')\n",
    "minst = minst_df.values[:,1:]\n",
    "minst_labels = minst_df['label']"
   ]
  },
  {
   "cell_type": "code",
   "execution_count": 10,
   "metadata": {
    "collapsed": true
   },
   "outputs": [],
   "source": [
    "from sklearn.cross_validation import train_test_split"
   ]
  },
  {
   "cell_type": "code",
   "execution_count": 11,
   "metadata": {
    "collapsed": true
   },
   "outputs": [],
   "source": [
    "from sklearn.metrics import confusion_matrix"
   ]
  },
  {
   "cell_type": "code",
   "execution_count": 12,
   "metadata": {
    "collapsed": true
   },
   "outputs": [],
   "source": [
    "from sklearn.metrics import classification_report"
   ]
  },
  {
   "cell_type": "code",
   "execution_count": 13,
   "metadata": {
    "collapsed": true
   },
   "outputs": [],
   "source": [
    "minst_train, minst_test, label_train, label_test = train_test_split(\n",
    "    minst, minst_labels, test_size = 0.2)"
   ]
  },
  {
   "cell_type": "code",
   "execution_count": 14,
   "metadata": {
    "collapsed": false,
    "scrolled": true
   },
   "outputs": [
    {
     "data": {
      "text/plain": [
       "(42000L, 784L)"
      ]
     },
     "execution_count": 14,
     "metadata": {},
     "output_type": "execute_result"
    }
   ],
   "source": [
    "minst.shape"
   ]
  },
  {
   "cell_type": "code",
   "execution_count": 15,
   "metadata": {
    "collapsed": false
   },
   "outputs": [],
   "source": [
    "def expand_y(y):\n",
    "    out = np.zeros(10)\n",
    "    out[y] = 1\n",
    "    return out\n",
    "\n",
    "# expand = np.vectorize(expand_y)"
   ]
  },
  {
   "cell_type": "code",
   "execution_count": 16,
   "metadata": {
    "collapsed": false
   },
   "outputs": [],
   "source": [
    "label_test = np.array(map(expand_y,label_test))\n",
    "label_train = np.array(map(expand_y,label_train))"
   ]
  },
  {
   "cell_type": "code",
   "execution_count": 37,
   "metadata": {
    "collapsed": false,
    "scrolled": false
   },
   "outputs": [
    {
     "data": {
      "text/plain": [
       "2280.2249999046326"
      ]
     },
     "execution_count": 37,
     "metadata": {},
     "output_type": "execute_result"
    }
   ],
   "source": [
    "t0 = time.time()\n",
    "\n",
    "my_nn = neural_network([784,784/2, 10])\n",
    "cost = my_nn.fit(minst_train, label_train, batch_size = 10,\n",
    "                 Lambda = 0, learning_rate = 0.01,\n",
    "                 epochs = 50, return_cost = True,\n",
    "                 velocity_coef = 0,\n",
    "                 test_x = minst_test[0:1000],\n",
    "                 test_y = label_test[0:1000])\n",
    "\n",
    "t1 = time.time()\n",
    "t1 - t0"
   ]
  },
  {
   "cell_type": "code",
   "execution_count": 38,
   "metadata": {
    "collapsed": false,
    "scrolled": false
   },
   "outputs": [
    {
     "name": "stdout",
     "output_type": "stream",
     "text": [
      "[[742   0   5   1   2   6  11   1   5]\n",
      " [  0 962   4   4   2   4   0   1  11]\n",
      " [  5   3 754  12   6   2  11  15  16]\n",
      " [  4   4  18 739   2  25   5   3  28]\n",
      " [  2   1   5   2 751   2   7   7  10]\n",
      " [ 13   3   4  17   6 657  14   3   8]\n",
      " [ 11   1   7   2   4  17 774   2   8]\n",
      " [  3   4  13   5   6   1   0 809   2]\n",
      " [ 12   6   8  24   6  20   3   2 753]]\n",
      "             precision    recall  f1-score   support\n",
      "\n",
      "          0       0.93      0.96      0.94       776\n",
      "          1       0.97      0.97      0.97       988\n",
      "          2       0.92      0.91      0.92       828\n",
      "          3       0.90      0.88      0.89       840\n",
      "          4       0.90      0.92      0.91       813\n",
      "          5       0.89      0.90      0.89       732\n",
      "          6       0.94      0.93      0.94       828\n",
      "          7       0.93      0.94      0.93       861\n",
      "          8       0.87      0.88      0.88       853\n",
      "          9       0.89      0.85      0.87       881\n",
      "\n",
      "avg / total       0.92      0.92      0.92      8400\n",
      "\n"
     ]
    },
    {
     "data": {
      "text/plain": [
       "[<matplotlib.lines.Line2D at 0x2784c710>]"
      ]
     },
     "execution_count": 38,
     "metadata": {},
     "output_type": "execute_result"
    },
    {
     "data": {
      "image/png": "[encoded data removed]",
      "text/plain": [
       "<matplotlib.figure.Figure at 0x271377b8>"
      ]
     },
     "metadata": {},
     "output_type": "display_data"
    }
   ],
   "source": [
    "yhat = my_nn.predict(minst_test)\n",
    "yhat_vec = np.argmax(yhat, axis = 1)\n",
    "print confusion_matrix(np.argmax(label_test, axis = 1),\n",
    "                       yhat_vec, labels = range(9))\n",
    "\n",
    "print classification_report(np.argmax(label_test, axis = 1),\n",
    "                            yhat_vec)\n",
    "plt.plot(np.array(cost)/len(label_test))"
   ]
  }
 ],
 "metadata": {
  "kernelspec": {
   "display_name": "Python 2",
   "language": "python",
   "name": "python2"
  },
  "language_info": {
   "codemirror_mode": {
    "name": "ipython",
    "version": 2
   },
   "file_extension": ".py",
   "mimetype": "text/x-python",
   "name": "python",
   "nbconvert_exporter": "python",
   "pygments_lexer": "ipython2",
   "version": "2.7.8"
  }
 },
 "nbformat": 4,
 "nbformat_minor": 0
}
