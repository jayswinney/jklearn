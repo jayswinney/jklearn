{
 "cells": [
  {
   "cell_type": "code",
   "execution_count": 1,
   "metadata": {
    "collapsed": false,
    "scrolled": true
   },
   "outputs": [],
   "source": [
    "from __future__ import division\n",
    "\n",
    "import numpy as np\n",
    "import numpy.matlib\n",
    "from matplotlib import pyplot as plt\n",
    "import seaborn as sns\n",
    "\n",
    "from sklearn.datasets import load_iris"
   ]
  },
  {
   "cell_type": "code",
   "execution_count": 2,
   "metadata": {
    "collapsed": true
   },
   "outputs": [],
   "source": [
    "%matplotlib inline"
   ]
  },
  {
   "cell_type": "code",
   "execution_count": 3,
   "metadata": {
    "collapsed": true
   },
   "outputs": [],
   "source": [
    "iris = load_iris()\n",
    "x_iris = iris['data']\n",
    "y_iris = map(lambda x: np.array([1 if i == x else 0 for i in range(3)]),\n",
    "        iris['target'])\n",
    "y_iris = np.array(y_iris)"
   ]
  },
  {
   "cell_type": "code",
   "execution_count": 4,
   "metadata": {
    "collapsed": false
   },
   "outputs": [],
   "source": [
    "sigmoid = np.vectorize(lambda x: 1.0/(1.0+np.exp(-x)))\n",
    "sig = lambda x: 1.0/(1.0+np.exp(-x))\n",
    "sig_d = lambda x: sig(x) * (1 - sig(x))\n",
    "sigmoid_d = np.vectorize(lambda x: sig(x) * (1 - sig(x)))\n",
    "\n",
    "tanh_d = lambda x: 1 - np.square(np.tanh(x))"
   ]
  },
  {
   "cell_type": "code",
   "execution_count": 5,
   "metadata": {
    "collapsed": true
   },
   "outputs": [],
   "source": [
    "def log_loss(y, yhat):\n",
    "    return np.sum(-(y*np.log(yhat) + (1 - y)*np.log(1 - yhat)))"
   ]
  },
  {
   "cell_type": "code",
   "execution_count": 14,
   "metadata": {
    "collapsed": false,
    "scrolled": false
   },
   "outputs": [],
   "source": [
    "class neural_network:\n",
    "    \n",
    "    def __init__(self, sizes, activation = sigmoid, act_d = sigmoid_d):\n",
    "        '''\n",
    "        one required arguement: a list with the layer sizes\n",
    "        can be used for classification or regression\n",
    "        '''\n",
    "        self.num_layers = len(sizes)\n",
    "        self.sizes = sizes\n",
    "        self.biases = [np.random.randn(x) for x in sizes[1:]]\n",
    "        self.weights = [np.random.randn(y, x) \n",
    "                        for x, y in zip(sizes[:-1], sizes[1:])]\n",
    "        self.a = [np.zeros(x) for x in sizes]\n",
    "        self.a_vec = []\n",
    "        self.activation = activation\n",
    "        self.act_d = act_d\n",
    "        self.z = [np.zeros(x) for x in sizes[1:]]\n",
    "        self.z_vec = []\n",
    "        \n",
    "        \n",
    "        \n",
    "    def predict_vec(self,x):\n",
    "        self.a_vec = []\n",
    "        self.z_vec = []\n",
    "        self.a_vec = [x]\n",
    "        m = x.shape[0]\n",
    "        biases = [np.matlib.repmat(b, m, 1) for b in self.biases]\n",
    "        for w, b in zip(self.weights, biases):\n",
    "            z = np.dot(w, x.T).T + b\n",
    "            self.z_vec.append(z)\n",
    "            x = sig(z)\n",
    "            self.a_vec.append(x)\n",
    "        \n",
    "        return x      \n",
    "        \n",
    "        \n",
    "    def predict(self, x):\n",
    "        '''\n",
    "        input:\n",
    "            - x, a 2D numpy array\n",
    "        output:\n",
    "            predicted values\n",
    "        '''\n",
    "        out = []\n",
    "        for i in x:\n",
    "            for w, b in zip(self.weights, self.biases):\n",
    "                i = self.activation(np.dot(w, i)+b)\n",
    "                \n",
    "            out.append(i)\n",
    "            \n",
    "        return np.array(out)\n",
    "    \n",
    "    \n",
    "    def forward_prop(self, x):\n",
    "        '''\n",
    "        input:\n",
    "            - x, a single observation\n",
    "        output:\n",
    "            predictions for x\n",
    "            \n",
    "        This method can be used for prediction, but it should only be used\n",
    "        as part of training the neural network. The main difference is that\n",
    "        forward_prop() records the activation vectors(a) and output vectors(z)\n",
    "        '''\n",
    "        self.a[0] = x\n",
    "        for i, w in enumerate(self.weights):\n",
    "            b = self.biases[i]\n",
    "            self.z[i] = np.dot(w,x) + b\n",
    "            x = self.activation(self.z[i])\n",
    "            self.a[i+1] = x\n",
    "            \n",
    "            \n",
    "        return self.a[-1]\n",
    "                \n",
    "    \n",
    "    def gradient_descent(self, x, y, lr):\n",
    "        m = len(x)\n",
    "        delta_weights = [np.zeros((self.sizes[l+1], self.sizes[l]))\n",
    "                 for l in range(len(self.sizes[:-1]))]\n",
    "\n",
    "        delta_biases = [np.zeros(l) for l in self.sizes[1:]]\n",
    "\n",
    "        for i in range(m):\n",
    "            w_grads, b_grads = self.back_prop(x[i], y[i])\n",
    "            delta_weights = [dw + wg for dw, wg in zip(delta_weights, w_grads)]\n",
    "            delta_biases = [db + bg for db, bg in zip(delta_biases, b_grads)]\n",
    "            \n",
    "        \n",
    "        self.weights = [w - lr * wg/m for\n",
    "                        wg, w in zip(delta_weights, self.weights)]\n",
    "        self.biases = [b - lr * bg/m for bg,b in zip(delta_biases, self.biases)]\n",
    "        \n",
    "        \n",
    "    def gd_vec(self, x, y, lr, l2):\n",
    "        m = len(x)\n",
    "        delta_weights, delta_biases = self.bp_vec(x, y)          \n",
    "        \n",
    "        self.weights = [w - lr * wg/m for\n",
    "                        wg, w in zip(delta_weights, self.weights)]\n",
    "        self.biases = [b - lr * bg/m for bg,b in zip(delta_biases, self.biases)]\n",
    "        \n",
    "    \n",
    "    def fit(self, x, y, batch_size, learning_rate = 0.01, epochs = 1, l2 = 1e-4,\n",
    "           return_cost = False): \n",
    "        '''\n",
    "        train the neural network using minibatch gradient descent\n",
    "        '''\n",
    "        if return_cost:\n",
    "            cost = []\n",
    "        for e in xrange(epochs):\n",
    "            # create mini batches for minibatch gradient descent\n",
    "            m = len(x)\n",
    "            index = np.array(range(m))\n",
    "            np.random.shuffle(index)\n",
    "            batch_size = 8\n",
    "            num_batches = round(m/batch_size,0)\n",
    "            batches = np.array_split(index, num_batches)\n",
    "            for batch in batches:\n",
    "                self.gd_vec(x[batch], y[batch], learning_rate, l2)\n",
    "            if return_cost:\n",
    "                cost.append(log_loss(y, self.predict_vec(x)))\n",
    "        \n",
    "        if return_cost:\n",
    "            return cost\n",
    "        \n",
    "    \n",
    "    def gradient_checking(self, x, y, epsilon):\n",
    "        '''\n",
    "        function to check the implementation of back_prop()\n",
    "        '''\n",
    "        original_weights = [l*1 for l in self.weights]\n",
    "        grad_approx = [np.zeros((j, i)) \n",
    "                       for i, j in zip(self.sizes[:-1], self.sizes[1:])]\n",
    "        w_grads, b_grads = self.back_prop(x, y)\n",
    "        for l in xrange(self.num_layers - 1):\n",
    "            lshape = self.weights[l].shape\n",
    "            indicies = [(r, c) for c in xrange(lshape[1])\n",
    "                       for r in xrange(lshape[0])]\n",
    "            for i in indicies:\n",
    "                self.weights[l][i] += epsilon\n",
    "                theta_plus = log_loss(y, self.predict([x])[0])\n",
    "                self.weights[l][i] -= 2*epsilon\n",
    "                theta_minus = log_loss(y, self.predict([x])[0])\n",
    "                grad_approx[l][i] = (theta_plus - theta_minus)/(2*epsilon)\n",
    "                self.weights[l][i] += epsilon\n",
    "                      \n",
    "        b_grad_approx = [np.zeros(l) for l in self.sizes[1:]]\n",
    "        original_biases = [b*1 for b in self.biases]\n",
    "        for l in xrange(self.num_layers - 1):\n",
    "            b_shape = len(self.biases[l])\n",
    "            for i in xrange(b_shape):                \n",
    "                self.biases[l][i] += epsilon\n",
    "                theta_plus = log_loss(y, self.predict([x])[0])\n",
    "                self.biases[l][i] -= 2*epsilon\n",
    "                theta_minus = log_loss(y, self.predict([x])[0])\n",
    "                b_grad_approx[l][i] = (theta_plus - theta_minus)/(2*epsilon)\n",
    "                self.biases[l][i] += epsilon\n",
    "        # print some information for gradient checking\n",
    "        for l in xrange(self.num_layers - 1):\n",
    "            print l\n",
    "            print 'weights'\n",
    "            print grad_approx[l]\n",
    "            print w_grads[l]\n",
    "            print 'difference'\n",
    "            print grad_approx[l] - w_grads[l]\n",
    "            print '----------------'\n",
    "            print 'biases'\n",
    "            print b_grad_approx[l]\n",
    "            print b_grads[l]\n",
    "            print 'difference'\n",
    "            print b_grad_approx[l] - b_grads[l]\n",
    "            print '_________________________________'  \n",
    "\n",
    "    def back_prop(self, x, y):\n",
    "        '''\n",
    "        computes the gradients for gradient_descent\n",
    "        '''\n",
    "        nabla_w = [None for l in self.weights]\n",
    "        nabla_b = [None for l in self.weights]\n",
    "        deltas = [None for l in self.sizes]\n",
    "        yhat = self.forward_prop(x)\n",
    "        deltas[-1] = yhat - y\n",
    "        for l in range(1, self.num_layers - 1)[::-1]:\n",
    "            w = self.weights[l]\n",
    "            a = self.a[l]\n",
    "            z = self.z[l-1]\n",
    "            deltas[l] = np.dot(w.T, deltas[l+1]) * self.act_d(z)\n",
    "        for l in range(0, self.num_layers-1):\n",
    "            nabla_w[l] =  np.outer(deltas[l+1], self.a[l].T)\n",
    "            nabla_b[l] = deltas[l+1]\n",
    "        return nabla_w, nabla_b\n",
    "\n",
    "\n",
    "    def bp_vec(self, x, y):\n",
    "        nabla_w = [None for l in self.weights]\n",
    "        nabla_b = [None for l in self.weights]\n",
    "        deltas = [None for l in self.sizes]\n",
    "        yhat = self.predict_vec(x)\n",
    "        deltas[-1] = yhat - y\n",
    "        for l in range(1, self.num_layers - 1)[::-1]:\n",
    "            w = self.weights[l]\n",
    "            a = self.a_vec[l]\n",
    "            z = self.z_vec[l-1]\n",
    "            deltas[l] = (np.dot(w.T, deltas[l+1].T) * sig_d(z).T).T\n",
    "        for l in range(0, self.num_layers-1):\n",
    "            nabla_w[l] =  np.dot(deltas[l+1].T, self.a_vec[l])\n",
    "            nabla_b[l] = deltas[l+1]\n",
    "        return nabla_w, [b.sum(axis = 0) for b in nabla_b]\n",
    "\n",
    "               \n",
    "my_nn = neural_network([4,8,3])\n",
    "cost = my_nn.fit(x_iris, y_iris, batch_size = 8,\n",
    "                 epochs = 1000, return_cost = True)\n",
    "\n",
    "\n",
    "# print bp_vecw\n",
    "# print bpw\n",
    "# bp_vecw[0] == bpw"
   ]
  },
  {
   "cell_type": "code",
   "execution_count": 25,
   "metadata": {
    "collapsed": false
   },
   "outputs": [
    {
     "data": {
      "text/plain": [
       "[<matplotlib.lines.Line2D at 0x1aebb2b0>]"
      ]
     },
     "execution_count": 25,
     "metadata": {},
     "output_type": "execute_result"
    },
    {
     "data": {
      "image/png": "[encoded data removed]",
      "text/plain": [
       "<matplotlib.figure.Figure at 0x1ae0f390>"
      ]
     },
     "metadata": {},
     "output_type": "display_data"
    }
   ],
   "source": [
    "plt.plot(np.array(cost)/len(x_iris))"
   ]
  },
  {
   "cell_type": "code",
   "execution_count": 16,
   "metadata": {
    "collapsed": true
   },
   "outputs": [],
   "source": [
    "import time"
   ]
  },
  {
   "cell_type": "code",
   "execution_count": 22,
   "metadata": {
    "collapsed": false
   },
   "outputs": [
    {
     "data": {
      "text/plain": [
       "1.5869998931884766"
      ]
     },
     "execution_count": 22,
     "metadata": {},
     "output_type": "execute_result"
    }
   ],
   "source": [
    "t0 = time.time()\n",
    "\n",
    "my_nn = neural_network([4,8,3])\n",
    "cost = my_nn.fit(x_iris, y_iris, batch_size = 8,\n",
    "                 epochs = 1000, return_cost = True)\n",
    "\n",
    "t1 = time.time()\n",
    "t1 - t0"
   ]
  },
  {
   "cell_type": "code",
   "execution_count": 21,
   "metadata": {
    "collapsed": false
   },
   "outputs": [
    {
     "data": {
      "text/plain": [
       "1.4649999141693115"
      ]
     },
     "execution_count": 21,
     "metadata": {},
     "output_type": "execute_result"
    }
   ],
   "source": [
    "t0 = time.time()\n",
    "\n",
    "my_nn = neural_network([4,8,3])\n",
    "my_nn.fit(x_iris, y_iris, batch_size = 8,\n",
    "                 epochs = 1000)\n",
    "\n",
    "t1 = time.time()\n",
    "t1 - t0"
   ]
  },
  {
   "cell_type": "code",
   "execution_count": 19,
   "metadata": {
    "collapsed": false
   },
   "outputs": [
    {
     "data": {
      "text/plain": [
       "16.092999935150146"
      ]
     },
     "execution_count": 19,
     "metadata": {},
     "output_type": "execute_result"
    }
   ],
   "source": [
    "t0 = time.time()\n",
    "cost = []\n",
    "my_nn = neural_network([4,8,3])\n",
    "for j in xrange(1000):\n",
    "    my_nn.gradient_descent(x_iris, y_iris, 0.01)\n",
    "    cost.append(log_loss(y_iris, my_nn.predict_vec(x_iris)))\n",
    "    \n",
    "t1 = time.time()\n",
    "t1 - t0"
   ]
  },
  {
   "cell_type": "code",
   "execution_count": 20,
   "metadata": {
    "collapsed": false
   },
   "outputs": [
    {
     "data": {
      "text/plain": [
       "22.562000036239624"
      ]
     },
     "execution_count": 20,
     "metadata": {},
     "output_type": "execute_result"
    }
   ],
   "source": [
    "t0 = time.time()\n",
    "cost = []\n",
    "my_nn = neural_network([4,8,3])\n",
    "for j in xrange(1000):\n",
    "    my_nn.gradient_descent(x_iris, y_iris, 0.01)\n",
    "    cost.append(log_loss(y_iris, my_nn.predict(x_iris)))\n",
    "    \n",
    "t1 = time.time()\n",
    "t1 - t0"
   ]
  },
  {
   "cell_type": "code",
   "execution_count": 29,
   "metadata": {
    "collapsed": false,
    "scrolled": true
   },
   "outputs": [
    {
     "data": {
      "text/plain": [
       "array([2, 2, 2])"
      ]
     },
     "execution_count": 29,
     "metadata": {},
     "output_type": "execute_result"
    }
   ],
   "source": [
    "np.array([[1,1,1],[1,1,1]]).sum(axis = 0)"
   ]
  },
  {
   "cell_type": "code",
   "execution_count": 15,
   "metadata": {
    "collapsed": false
   },
   "outputs": [
    {
     "data": {
      "text/plain": [
       "(8L, 4L)"
      ]
     },
     "execution_count": 15,
     "metadata": {},
     "output_type": "execute_result"
    }
   ],
   "source": [
    "w.shape"
   ]
  },
  {
   "cell_type": "code",
   "execution_count": 7,
   "metadata": {
    "collapsed": false
   },
   "outputs": [],
   "source": [
    "# x_or = np.random.randint(2, size = (30,2))\n",
    "x_or = np.array([[1,1], [1,0], [0,1], [0,0]])\n",
    "y_or = np.array(map(lambda x: [(x[0]==1 or x[1]==1) and (x[0]!=1 or x[1]!= 1)],\n",
    "                           x_or))"
   ]
  },
  {
   "cell_type": "code",
   "execution_count": 10,
   "metadata": {
    "collapsed": false
   },
   "outputs": [
    {
     "name": "stdout",
     "output_type": "stream",
     "text": [
      "[[ 0.01027788]\n",
      " [ 0.98909645]\n",
      " [ 0.98908146]\n",
      " [ 0.01122895]]\n"
     ]
    },
    {
     "data": {
      "text/plain": [
       "[<matplotlib.lines.Line2D at 0x18f88320>]"
      ]
     },
     "execution_count": 10,
     "metadata": {},
     "output_type": "execute_result"
    },
    {
     "data": {
      "image/png": "[encoded data removed]",
      "text/plain": [
       "<matplotlib.figure.Figure at 0x1890d2b0>"
      ]
     },
     "metadata": {},
     "output_type": "display_data"
    }
   ],
   "source": [
    "my_nn = neural_network([2,4,1])\n",
    "cost = []\n",
    "for i in xrange(10000):\n",
    "    my_nn.gradient_descent(x_or, y_or, 0.1)\n",
    "    cost.append(log_loss( y_or, my_nn.predict(x_or)))\n",
    "    \n",
    "print my_nn.predict(x_or)\n",
    "plt.plot(cost)"
   ]
  }
 ],
 "metadata": {
  "kernelspec": {
   "display_name": "Python 2",
   "language": "python",
   "name": "python2"
  },
  "language_info": {
   "codemirror_mode": {
    "name": "ipython",
    "version": 2
   },
   "file_extension": ".py",
   "mimetype": "text/x-python",
   "name": "python",
   "nbconvert_exporter": "python",
   "pygments_lexer": "ipython2",
   "version": "2.7.9"
  }
 },
 "nbformat": 4,
 "nbformat_minor": 0
}
