{
 "cells": [
  {
   "cell_type": "code",
   "execution_count": 1,
   "metadata": {
    "collapsed": false,
    "scrolled": true
   },
   "outputs": [],
   "source": [
    "from __future__ import division\n",
    "\n",
    "import numpy as np\n",
    "import numpy.matlib\n",
    "from matplotlib import pyplot as plt\n",
    "import seaborn as sns\n",
    "\n",
    "from sklearn.datasets import load_iris"
   ]
  },
  {
   "cell_type": "code",
   "execution_count": 7,
   "metadata": {
    "collapsed": true
   },
   "outputs": [],
   "source": [
    "import time"
   ]
  },
  {
   "cell_type": "code",
   "execution_count": 2,
   "metadata": {
    "collapsed": true
   },
   "outputs": [],
   "source": [
    "%matplotlib inline"
   ]
  },
  {
   "cell_type": "code",
   "execution_count": 3,
   "metadata": {
    "collapsed": true
   },
   "outputs": [],
   "source": [
    "iris = load_iris()\n",
    "x_iris = iris['data']\n",
    "y_iris = map(lambda x: np.array([1 if i == x else 0 for i in range(3)]),\n",
    "        iris['target'])\n",
    "y_iris = np.array(y_iris)"
   ]
  },
  {
   "cell_type": "code",
   "execution_count": 4,
   "metadata": {
    "collapsed": false
   },
   "outputs": [],
   "source": [
    "sigmoid = np.vectorize(lambda x: 1.0/(1.0+np.exp(-x)))\n",
    "sig = lambda x: 1.0/(1.0+np.exp(-x))\n",
    "sig_d = lambda x: sig(x) * (1 - sig(x))\n",
    "sigmoid_d = np.vectorize(lambda x: sig(x) * (1 - sig(x)))\n",
    "\n",
    "tanh_d = lambda x: 1 - np.square(np.tanh(x))"
   ]
  },
  {
   "cell_type": "code",
   "execution_count": 5,
   "metadata": {
    "collapsed": true
   },
   "outputs": [],
   "source": [
    "def log_loss(y, yhat):\n",
    "    return np.sum(-(y*np.log(yhat) + (1 - y)*np.log(1 - yhat)))"
   ]
  },
  {
   "cell_type": "code",
   "execution_count": 45,
   "metadata": {
    "collapsed": false,
    "scrolled": false
   },
   "outputs": [],
   "source": [
    "class neural_network:\n",
    "    \n",
    "    def __init__(self, sizes, activation = sigmoid, act_d = sigmoid_d):\n",
    "        '''\n",
    "        one required arguement: a list with the layer sizes\n",
    "        can be used for classification or regression\n",
    "        '''\n",
    "        self.num_layers = len(sizes)\n",
    "        self.sizes = sizes\n",
    "        self.biases = [np.random.randn(x) for x in sizes[1:]]\n",
    "        self.weights = [np.random.randn(y, x) \n",
    "                        for x, y in zip(sizes[:-1], sizes[1:])]\n",
    "        self.a = [np.zeros(x) for x in sizes]\n",
    "        self.a_vec = []\n",
    "        self.activation = activation\n",
    "        self.act_d = act_d\n",
    "        self.z = [np.zeros(x) for x in sizes[1:]]\n",
    "        self.z_vec = []\n",
    "        \n",
    "        \n",
    "    def predict(self,x):\n",
    "        self.a_vec = []\n",
    "        self.z_vec = []\n",
    "        self.a_vec = [x]\n",
    "        m = x.shape[0]\n",
    "        biases = [np.matlib.repmat(b, m, 1) for b in self.biases]\n",
    "        for w, b in zip(self.weights, biases):\n",
    "            z = np.dot(w, x.T).T + b\n",
    "            self.z_vec.append(z)\n",
    "            x = sig(z)\n",
    "            self.a_vec.append(x)\n",
    "        \n",
    "        return x      \n",
    "                \n",
    "\n",
    "    def back_prop(self, x, y):\n",
    "        '''\n",
    "        vectorized back propigation\n",
    "        '''\n",
    "        nabla_w = [None for l in self.weights]\n",
    "        nabla_b = [None for l in self.weights]\n",
    "        deltas = [None for l in self.sizes]\n",
    "        yhat = self.predict(x)\n",
    "        deltas[-1] = yhat - y\n",
    "        for l in range(1, self.num_layers - 1)[::-1]:\n",
    "            w = self.weights[l]\n",
    "            a = self.a_vec[l]\n",
    "            z = self.z_vec[l-1]\n",
    "            deltas[l] = (np.dot(w.T, deltas[l+1].T) * sig_d(z).T).T\n",
    "        for l in range(0, self.num_layers-1):\n",
    "            nabla_w[l] =  np.dot(deltas[l+1].T, self.a_vec[l])\n",
    "            nabla_b[l] = deltas[l+1]\n",
    "        return nabla_w, [b.sum(axis = 0) for b in nabla_b]\n",
    "    \n",
    "\n",
    "        \n",
    "        \n",
    "    def gradient_descent(self, x, y, lr, Lambda):\n",
    "        '''\n",
    "        vectorized gradient descent function.\n",
    "        performas a single gradient descent update on the weights and biases\n",
    "        '''\n",
    "        m = len(x)\n",
    "        delta_weights, delta_biases = self.back_prop(x, y)          \n",
    "        \n",
    "        self.weights = [w - lr * (wg/m + Lambda * w) for\n",
    "                        wg, w in zip(delta_weights, self.weights)]\n",
    "        self.biases = [b - lr * bg/m for bg, b\n",
    "                        in zip(delta_biases, self.biases)]\n",
    "        \n",
    "    \n",
    "    def fit(self, x, y, batch_size, test_x, test_y,\n",
    "            learning_rate = 0.01, epochs = 1,\n",
    "            Lambda = 1e-4, return_cost = False): \n",
    "        '''\n",
    "        train the neural network using minibatch gradient descent\n",
    "        '''\n",
    "        if return_cost:\n",
    "            cost = []\n",
    "        for e in xrange(epochs):\n",
    "#             if e % 10 == 0:\n",
    "            print e\n",
    "            # create mini batches for minibatch gradient descent\n",
    "            m = len(x)\n",
    "            index = np.array(range(m))\n",
    "            np.random.shuffle(index)\n",
    "            batch_size = 8\n",
    "            num_batches = round(m/batch_size,0)\n",
    "            batches = np.array_split(index, num_batches)\n",
    "            for batch in batches:\n",
    "                self.gradient_descent(x[batch], y[batch],\n",
    "                                      learning_rate, Lambda)\n",
    "            if return_cost:\n",
    "                cost.append(log_loss(test_y, self.predict(test_x)))\n",
    "        \n",
    "        if return_cost:\n",
    "            return cost"
   ]
  },
  {
   "cell_type": "code",
   "execution_count": 40,
   "metadata": {
    "collapsed": false
   },
   "outputs": [
    {
     "data": {
      "text/plain": [
       "16.192999839782715"
      ]
     },
     "execution_count": 40,
     "metadata": {},
     "output_type": "execute_result"
    }
   ],
   "source": [
    "t0 = time.time()\n",
    "\n",
    "my_nn = neural_network([4,8,3])\n",
    "cost = my_nn.fit(x_iris, y_iris, batch_size = 8,\n",
    "                 epochs = 10000, return_cost = True)\n",
    "\n",
    "t1 = time.time()\n",
    "t1 - t0"
   ]
  },
  {
   "cell_type": "code",
   "execution_count": 21,
   "metadata": {
    "collapsed": false
   },
   "outputs": [
    {
     "data": {
      "text/plain": [
       "1.4649999141693115"
      ]
     },
     "execution_count": 21,
     "metadata": {},
     "output_type": "execute_result"
    }
   ],
   "source": [
    "t0 = time.time()\n",
    "\n",
    "my_nn = neural_network([4,8,3])\n",
    "my_nn.fit(x_iris, y_iris, batch_size = 8,\n",
    "                 epochs = 1000)\n",
    "\n",
    "t1 = time.time()\n",
    "t1 - t0"
   ]
  },
  {
   "cell_type": "code",
   "execution_count": 19,
   "metadata": {
    "collapsed": false
   },
   "outputs": [
    {
     "data": {
      "text/plain": [
       "16.092999935150146"
      ]
     },
     "execution_count": 19,
     "metadata": {},
     "output_type": "execute_result"
    }
   ],
   "source": [
    "t0 = time.time()\n",
    "cost = []\n",
    "my_nn = neural_network([4,8,3])\n",
    "for j in xrange(1000):\n",
    "    my_nn.gradient_descent(x_iris, y_iris, 0.01)\n",
    "    cost.append(log_loss(y_iris, my_nn.predict_vec(x_iris)))\n",
    "    \n",
    "t1 = time.time()\n",
    "t1 - t0"
   ]
  },
  {
   "cell_type": "code",
   "execution_count": 20,
   "metadata": {
    "collapsed": false
   },
   "outputs": [
    {
     "data": {
      "text/plain": [
       "22.562000036239624"
      ]
     },
     "execution_count": 20,
     "metadata": {},
     "output_type": "execute_result"
    }
   ],
   "source": [
    "t0 = time.time()\n",
    "cost = []\n",
    "my_nn = neural_network([4,8,3])\n",
    "for j in xrange(1000):\n",
    "    my_nn.gradient_descent(x_iris, y_iris, 0.01)\n",
    "    cost.append(log_loss(y_iris, my_nn.predict(x_iris)))\n",
    "    \n",
    "t1 = time.time()\n",
    "t1 - t0"
   ]
  },
  {
   "cell_type": "code",
   "execution_count": 8,
   "metadata": {
    "collapsed": true
   },
   "outputs": [],
   "source": [
    "import pandas as pd"
   ]
  },
  {
   "cell_type": "code",
   "execution_count": 9,
   "metadata": {
    "collapsed": true
   },
   "outputs": [],
   "source": [
    "minst_df = pd.read_csv('C:/Users/jay.swinney/Desktop/minst.csv')\n",
    "minst = minst_df.values[:,1:]\n",
    "minst_lables = minst_df['label']"
   ]
  },
  {
   "cell_type": "code",
   "execution_count": 10,
   "metadata": {
    "collapsed": true
   },
   "outputs": [],
   "source": [
    "from sklearn.cross_validation import train_test_split"
   ]
  },
  {
   "cell_type": "code",
   "execution_count": 38,
   "metadata": {
    "collapsed": true
   },
   "outputs": [],
   "source": [
    "from sklearn.metrics import confusion_matrix"
   ]
  },
  {
   "cell_type": "code",
   "execution_count": 30,
   "metadata": {
    "collapsed": true
   },
   "outputs": [],
   "source": [
    "from sklearn.metrics import classification_report"
   ]
  },
  {
   "cell_type": "code",
   "execution_count": 11,
   "metadata": {
    "collapsed": true
   },
   "outputs": [],
   "source": [
    "minst_train, minst_test, label_train, label_test = train_test_split(\n",
    "    minst, minst_lables, test_size = 0.2)"
   ]
  },
  {
   "cell_type": "code",
   "execution_count": 50,
   "metadata": {
    "collapsed": false,
    "scrolled": true
   },
   "outputs": [
    {
     "data": {
      "text/plain": [
       "(42000L, 784L)"
      ]
     },
     "execution_count": 50,
     "metadata": {},
     "output_type": "execute_result"
    }
   ],
   "source": [
    "minst.shape"
   ]
  },
  {
   "cell_type": "code",
   "execution_count": 12,
   "metadata": {
    "collapsed": false
   },
   "outputs": [],
   "source": [
    "def expand_y(y):\n",
    "    out = np.zeros(10)\n",
    "    out[y] = 1\n",
    "    return out\n",
    "\n",
    "# expand = np.vectorize(expand_y)"
   ]
  },
  {
   "cell_type": "code",
   "execution_count": 13,
   "metadata": {
    "collapsed": false
   },
   "outputs": [],
   "source": [
    "label_test = np.array(map(expand_y,label_test))\n",
    "label_train = np.array(map(expand_y,label_train))"
   ]
  },
  {
   "cell_type": "code",
   "execution_count": 146,
   "metadata": {
    "collapsed": false,
    "scrolled": false
   },
   "outputs": [
    {
     "name": "stdout",
     "output_type": "stream",
     "text": [
      "0\n",
      "1\n",
      "2\n",
      "3\n",
      "4\n",
      "5\n",
      "6\n",
      "7\n",
      "8\n",
      "9\n",
      "10\n",
      "11\n",
      "12\n",
      "13\n",
      "14\n",
      "15\n",
      "16\n",
      "17\n",
      "18\n",
      "19\n",
      "20\n",
      "21\n",
      "22\n",
      "23\n",
      "24\n"
     ]
    },
    {
     "data": {
      "text/plain": [
       "173.0770001411438"
      ]
     },
     "execution_count": 146,
     "metadata": {},
     "output_type": "execute_result"
    }
   ],
   "source": [
    "t0 = time.time()\n",
    "\n",
    "my_nn = neural_network([784,100,100, 10])\n",
    "cost = my_nn.fit(minst_train, label_train, batch_size = 10,\n",
    "                 Lambda = 1e-4, learning_rate = 0.01,\n",
    "                 epochs = 25, return_cost = True,\n",
    "                 test_x = minst_test, test_y = label_test)\n",
    "\n",
    "t1 = time.time()\n",
    "t1 - t0"
   ]
  },
  {
   "cell_type": "code",
   "execution_count": 147,
   "metadata": {
    "collapsed": false,
    "scrolled": true
   },
   "outputs": [
    {
     "data": {
      "text/plain": [
       "[<matplotlib.lines.Line2D at 0x1cd62be0>]"
      ]
     },
     "execution_count": 147,
     "metadata": {},
     "output_type": "execute_result"
    },
    {
     "data": {
      "image/png": "[encoded data removed]",
      "text/plain": [
       "<matplotlib.figure.Figure at 0x259c8e10>"
      ]
     },
     "metadata": {},
     "output_type": "display_data"
    }
   ],
   "source": [
    "plt.plot(np.array(cost)/len(label_test))"
   ]
  },
  {
   "cell_type": "code",
   "execution_count": 35,
   "metadata": {
    "collapsed": false,
    "scrolled": true
   },
   "outputs": [
    {
     "data": {
      "text/plain": [
       "[<matplotlib.lines.Line2D at 0x26867ba8>]"
      ]
     },
     "execution_count": 35,
     "metadata": {},
     "output_type": "execute_result"
    },
    {
     "data": {
      "image/png": "[encoded data removed]",
      "text/plain": [
       "<matplotlib.figure.Figure at 0x25959588>"
      ]
     },
     "metadata": {},
     "output_type": "display_data"
    }
   ],
   "source": [
    "plt.plot(np.array(cost)/len(label_test))"
   ]
  },
  {
   "cell_type": "code",
   "execution_count": 143,
   "metadata": {
    "collapsed": false
   },
   "outputs": [],
   "source": [
    "yhat = my_nn.predict(minst_test)\n",
    "yhat_vec = np.argmax(yhat, axis = 1)"
   ]
  },
  {
   "cell_type": "code",
   "execution_count": 144,
   "metadata": {
    "collapsed": false,
    "scrolled": true
   },
   "outputs": [
    {
     "data": {
      "text/plain": [
       "array([[768,   0,   9,   4,   5,   2,  17,   2,  12],\n",
       "       [  0, 920,   6,   3,   2,   3,   0,   4,   9],\n",
       "       [ 12,   6, 754,  13,  12,   4,  20,  14,  22],\n",
       "       [  3,   6,  32, 762,   2,  38,   5,   9,  27],\n",
       "       [  2,   3,   5,   0, 644,   0,  12,   3,   9],\n",
       "       [ 16,   1,  11,  40,   5, 603,  11,   7,  28],\n",
       "       [ 14,   4,   7,   1,   9,  22, 734,   1,   7],\n",
       "       [  6,   4,  20,   8,   9,   3,   1, 758,   1],\n",
       "       [  7,  18,  26,  38,   8,  26,  14,   5, 629]])"
      ]
     },
     "execution_count": 144,
     "metadata": {},
     "output_type": "execute_result"
    }
   ],
   "source": [
    "confusion_matrix(np.argmax(label_test, axis = 1), yhat_vec, labels = range(9))"
   ]
  },
  {
   "cell_type": "code",
   "execution_count": 145,
   "metadata": {
    "collapsed": false
   },
   "outputs": [
    {
     "name": "stdout",
     "output_type": "stream",
     "text": [
      "             precision    recall  f1-score   support\n",
      "\n",
      "          0       0.92      0.93      0.92       830\n",
      "          1       0.96      0.97      0.96       950\n",
      "          2       0.86      0.86      0.86       872\n",
      "          3       0.87      0.84      0.86       905\n",
      "          4       0.89      0.84      0.86       771\n",
      "          5       0.85      0.81      0.83       740\n",
      "          6       0.90      0.92      0.91       800\n",
      "          7       0.91      0.88      0.89       863\n",
      "          8       0.83      0.78      0.80       804\n",
      "          9       0.75      0.88      0.81       865\n",
      "\n",
      "avg / total       0.87      0.87      0.87      8400\n",
      "\n"
     ]
    }
   ],
   "source": [
    "print classification_report(np.argmax(label_test, axis = 1), yhat_vec)"
   ]
  }
 ],
 "metadata": {
  "kernelspec": {
   "display_name": "Python 2",
   "language": "python",
   "name": "python2"
  },
  "language_info": {
   "codemirror_mode": {
    "name": "ipython",
    "version": 2
   },
   "file_extension": ".py",
   "mimetype": "text/x-python",
   "name": "python",
   "nbconvert_exporter": "python",
   "pygments_lexer": "ipython2",
   "version": "2.7.9"
  }
 },
 "nbformat": 4,
 "nbformat_minor": 0
}
