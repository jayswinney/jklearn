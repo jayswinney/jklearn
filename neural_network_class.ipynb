{
 "cells": [
  {
   "cell_type": "code",
   "execution_count": 1,
   "metadata": {
    "collapsed": false,
    "scrolled": true
   },
   "outputs": [],
   "source": [
    "from __future__ import division\n",
    "\n",
    "import numpy as np\n",
    "import numpy.matlib\n",
    "from matplotlib import pyplot as plt\n",
    "import seaborn as sns\n",
    "\n",
    "from sklearn.datasets import load_iris"
   ]
  },
  {
   "cell_type": "code",
   "execution_count": 7,
   "metadata": {
    "collapsed": true
   },
   "outputs": [],
   "source": [
    "import time"
   ]
  },
  {
   "cell_type": "code",
   "execution_count": 2,
   "metadata": {
    "collapsed": true
   },
   "outputs": [],
   "source": [
    "%matplotlib inline"
   ]
  },
  {
   "cell_type": "code",
   "execution_count": 3,
   "metadata": {
    "collapsed": true
   },
   "outputs": [],
   "source": [
    "iris = load_iris()\n",
    "x_iris = iris['data']\n",
    "y_iris = map(lambda x: np.array([1 if i == x else 0 for i in range(3)]),\n",
    "        iris['target'])\n",
    "y_iris = np.array(y_iris)"
   ]
  },
  {
   "cell_type": "code",
   "execution_count": 4,
   "metadata": {
    "collapsed": false
   },
   "outputs": [],
   "source": [
    "sigmoid = np.vectorize(lambda x: 1.0/(1.0+np.exp(-x)))\n",
    "sig = lambda x: 1.0/(1.0+np.exp(-x))\n",
    "sig_d = lambda x: sig(x) * (1 - sig(x))\n",
    "sigmoid_d = np.vectorize(lambda x: sig(x) * (1 - sig(x)))\n",
    "\n",
    "tanh_d = lambda x: 1 - np.square(np.tanh(x))"
   ]
  },
  {
   "cell_type": "code",
   "execution_count": 5,
   "metadata": {
    "collapsed": true
   },
   "outputs": [],
   "source": [
    "def log_loss(y, yhat):\n",
    "    return np.sum(-(y*np.log(yhat) + (1 - y)*np.log(1 - yhat)))"
   ]
  },
  {
   "cell_type": "code",
   "execution_count": 203,
   "metadata": {
    "collapsed": false,
    "scrolled": false
   },
   "outputs": [],
   "source": [
    "class neural_network:\n",
    "    \n",
    "    def __init__(self, sizes, activation = sigmoid, act_d = sigmoid_d):\n",
    "        '''\n",
    "        one required arguement: a list with the layer sizes\n",
    "        can be used for classification or regression\n",
    "        '''\n",
    "        self.num_layers = len(sizes)\n",
    "        self.sizes = sizes\n",
    "        self.biases = [np.random.randn(x) for x in sizes[1:]]\n",
    "        self.weights = [np.random.randn(y, x) \n",
    "                        for x, y in zip(sizes[:-1], sizes[1:])]\n",
    "        \n",
    "        self.velocity_biases = [np.zeros(x) for x in sizes[1:]]\n",
    "        self.velocity_weights = [np.zeros((y, x)) for x, y in\n",
    "                                 zip(sizes[:-1], sizes[1:])]\n",
    "        \n",
    "        self.a = [np.zeros(x) for x in sizes]\n",
    "        self.a_vec = []\n",
    "        self.activation = activation\n",
    "        self.act_d = act_d\n",
    "        self.z = [np.zeros(x) for x in sizes[1:]]\n",
    "        self.z_vec = []\n",
    "        \n",
    "        \n",
    "    def predict(self,x):\n",
    "        self.a_vec = []\n",
    "        self.z_vec = []\n",
    "        self.a_vec = [x]\n",
    "        m = x.shape[0]\n",
    "        biases = [np.matlib.repmat(b, m, 1) for b in self.biases]\n",
    "        for w, b in zip(self.weights, biases):\n",
    "            z = np.dot(w, x.T).T + b\n",
    "            self.z_vec.append(z)\n",
    "            x = sig(z)\n",
    "            self.a_vec.append(x)\n",
    "        \n",
    "        return x      \n",
    "                \n",
    "\n",
    "    def back_prop(self, x, y):\n",
    "        '''\n",
    "        vectorized back propigation\n",
    "        '''\n",
    "        nabla_w = [None for l in self.weights]\n",
    "        nabla_b = [None for l in self.weights]\n",
    "        deltas = [None for l in self.sizes]\n",
    "        yhat = self.predict(x)\n",
    "        deltas[-1] = yhat - y\n",
    "        for l in range(1, self.num_layers - 1)[::-1]:\n",
    "            w = self.weights[l]\n",
    "            a = self.a_vec[l]\n",
    "            z = self.z_vec[l-1]\n",
    "            deltas[l] = (np.dot(w.T, deltas[l+1].T) * sig_d(z).T).T\n",
    "        for l in range(0, self.num_layers-1):\n",
    "            nabla_w[l] =  np.dot(deltas[l+1].T, self.a_vec[l])\n",
    "            nabla_b[l] = deltas[l+1]\n",
    "        return nabla_w, [b.sum(axis = 0) for b in nabla_b]\n",
    "    \n",
    "\n",
    "                \n",
    "    def gradient_descent(self, x, y, lr, Lambda, u):\n",
    "        '''\n",
    "        vectorized gradient descent function.\n",
    "        performas a single gradient descent update on the weights and biases\n",
    "        '''\n",
    "        m = len(x)\n",
    "        delta_weights, delta_biases = self.back_prop(x, y)          \n",
    "        # update velocity values\n",
    "        self.velocity_weights = [wv * u - wg/m for wg, wv in\n",
    "                                 zip(delta_weights, self.velocity_weights)]\n",
    "        self.velocity_biases = [bv * u - bg/m for bg, bv in \n",
    "                                zip(delta_biases, self.velocity_biases)]\n",
    "        # update parameters\n",
    "        self.weights = [w + lr * (wv + Lambda * w) for\n",
    "                        wv, w in zip(self.velocity_weights, self.weights)]\n",
    "        self.biases = [b + lr * bv for bv, b\n",
    "                        in zip(self.velocity_biases, self.biases)]\n",
    "        \n",
    "    \n",
    "    def fit(self, x, y, batch_size, test_x, test_y,\n",
    "            learning_rate = 0.01, Lambda = 1e-4,\n",
    "            velocity_coef = 1, epochs = 1, return_cost = False): \n",
    "        '''\n",
    "        train the neural network using minibatch gradient descent\n",
    "        '''\n",
    "        if return_cost:\n",
    "            cost = []\n",
    "        for e in xrange(epochs):\n",
    "#             if e % 4 == 0:\n",
    "#                 print e\n",
    "            # create mini batches for minibatch gradient descent\n",
    "            m = len(x)\n",
    "            index = np.array(range(m))\n",
    "            np.random.shuffle(index)\n",
    "            batch_size = 8\n",
    "            num_batches = round(m/batch_size,0)\n",
    "            batches = np.array_split(index, num_batches)\n",
    "            for batch in batches:\n",
    "                self.gradient_descent(x[batch], y[batch], learning_rate,\n",
    "                                      Lambda, velocity_coef)\n",
    "            if return_cost:\n",
    "                cost.append(log_loss(test_y, self.predict(test_x)))\n",
    "        \n",
    "        if return_cost:\n",
    "            return cost"
   ]
  },
  {
   "cell_type": "code",
   "execution_count": 40,
   "metadata": {
    "collapsed": false
   },
   "outputs": [
    {
     "data": {
      "text/plain": [
       "16.192999839782715"
      ]
     },
     "execution_count": 40,
     "metadata": {},
     "output_type": "execute_result"
    }
   ],
   "source": [
    "t0 = time.time()\n",
    "\n",
    "my_nn = neural_network([4,8,3])\n",
    "cost = my_nn.fit(x_iris, y_iris, batch_size = 8,\n",
    "                 epochs = 10000, return_cost = True)\n",
    "\n",
    "t1 = time.time()\n",
    "t1 - t0"
   ]
  },
  {
   "cell_type": "code",
   "execution_count": 21,
   "metadata": {
    "collapsed": false
   },
   "outputs": [
    {
     "data": {
      "text/plain": [
       "1.4649999141693115"
      ]
     },
     "execution_count": 21,
     "metadata": {},
     "output_type": "execute_result"
    }
   ],
   "source": [
    "t0 = time.time()\n",
    "\n",
    "my_nn = neural_network([4,8,3])\n",
    "my_nn.fit(x_iris, y_iris, batch_size = 8,\n",
    "                 epochs = 1000)\n",
    "\n",
    "t1 = time.time()\n",
    "t1 - t0"
   ]
  },
  {
   "cell_type": "code",
   "execution_count": 19,
   "metadata": {
    "collapsed": false
   },
   "outputs": [
    {
     "data": {
      "text/plain": [
       "16.092999935150146"
      ]
     },
     "execution_count": 19,
     "metadata": {},
     "output_type": "execute_result"
    }
   ],
   "source": [
    "t0 = time.time()\n",
    "cost = []\n",
    "my_nn = neural_network([4,8,3])\n",
    "for j in xrange(1000):\n",
    "    my_nn.gradient_descent(x_iris, y_iris, 0.01)\n",
    "    cost.append(log_loss(y_iris, my_nn.predict_vec(x_iris)))\n",
    "    \n",
    "t1 = time.time()\n",
    "t1 - t0"
   ]
  },
  {
   "cell_type": "code",
   "execution_count": 208,
   "metadata": {
    "collapsed": false,
    "scrolled": false
   },
   "outputs": [
    {
     "name": "stdout",
     "output_type": "stream",
     "text": [
      "             precision    recall  f1-score   support\n",
      "\n",
      "          0       1.00      1.00      1.00        50\n",
      "          1       1.00      0.94      0.97        50\n",
      "          2       0.94      1.00      0.97        50\n",
      "\n",
      "avg / total       0.98      0.98      0.98       150\n",
      "\n"
     ]
    },
    {
     "data": {
      "image/png": "[encoded data removed]",
      "text/plain": [
       "<matplotlib.figure.Figure at 0x219cff98>"
      ]
     },
     "metadata": {},
     "output_type": "display_data"
    }
   ],
   "source": [
    "numpy.random.seed(4)\n",
    "my_nn = neural_network([4, 8, 3])\n",
    "cost = my_nn.fit(x_iris, y_iris, batch_size = 8,\n",
    "                 Lambda = 1e-2, learning_rate = 0.01,\n",
    "                 velocity_coef = 0,\n",
    "                 epochs = 100, return_cost = True,\n",
    "                 test_x = x_iris, test_y = y_iris)\n",
    "\n",
    "\n",
    "plt.plot(np.array(cost)/len(x_iris))\n",
    "yhat = my_nn.predict(x_iris)\n",
    "yhat_vec = np.argmax(yhat, axis = 1)\n",
    "print classification_report(np.argmax(y_iris, axis = 1), yhat_vec)"
   ]
  },
  {
   "cell_type": "code",
   "execution_count": 8,
   "metadata": {
    "collapsed": true
   },
   "outputs": [],
   "source": [
    "import pandas as pd"
   ]
  },
  {
   "cell_type": "code",
   "execution_count": 9,
   "metadata": {
    "collapsed": true
   },
   "outputs": [],
   "source": [
    "minst_df = pd.read_csv('C:/Users/jay.swinney/Desktop/minst.csv')\n",
    "minst = minst_df.values[:,1:]\n",
    "minst_lables = minst_df['label']"
   ]
  },
  {
   "cell_type": "code",
   "execution_count": 10,
   "metadata": {
    "collapsed": true
   },
   "outputs": [],
   "source": [
    "from sklearn.cross_validation import train_test_split"
   ]
  },
  {
   "cell_type": "code",
   "execution_count": 38,
   "metadata": {
    "collapsed": true
   },
   "outputs": [],
   "source": [
    "from sklearn.metrics import confusion_matrix"
   ]
  },
  {
   "cell_type": "code",
   "execution_count": 30,
   "metadata": {
    "collapsed": true
   },
   "outputs": [],
   "source": [
    "from sklearn.metrics import classification_report"
   ]
  },
  {
   "cell_type": "code",
   "execution_count": 11,
   "metadata": {
    "collapsed": true
   },
   "outputs": [],
   "source": [
    "minst_train, minst_test, label_train, label_test = train_test_split(\n",
    "    minst, minst_lables, test_size = 0.2)"
   ]
  },
  {
   "cell_type": "code",
   "execution_count": 50,
   "metadata": {
    "collapsed": false,
    "scrolled": true
   },
   "outputs": [
    {
     "data": {
      "text/plain": [
       "(42000L, 784L)"
      ]
     },
     "execution_count": 50,
     "metadata": {},
     "output_type": "execute_result"
    }
   ],
   "source": [
    "minst.shape"
   ]
  },
  {
   "cell_type": "code",
   "execution_count": 12,
   "metadata": {
    "collapsed": false
   },
   "outputs": [],
   "source": [
    "def expand_y(y):\n",
    "    out = np.zeros(10)\n",
    "    out[y] = 1\n",
    "    return out\n",
    "\n",
    "# expand = np.vectorize(expand_y)"
   ]
  },
  {
   "cell_type": "code",
   "execution_count": 13,
   "metadata": {
    "collapsed": false
   },
   "outputs": [],
   "source": [
    "label_test = np.array(map(expand_y,label_test))\n",
    "label_train = np.array(map(expand_y,label_train))"
   ]
  },
  {
   "cell_type": "code",
   "execution_count": 191,
   "metadata": {
    "collapsed": false,
    "scrolled": false
   },
   "outputs": [
    {
     "name": "stdout",
     "output_type": "stream",
     "text": [
      "0\n",
      "4\n",
      "8\n",
      "12\n",
      "16\n",
      "20\n",
      "24\n"
     ]
    },
    {
     "data": {
      "text/plain": [
       "1146.9739999771118"
      ]
     },
     "execution_count": 191,
     "metadata": {},
     "output_type": "execute_result"
    }
   ],
   "source": [
    "t0 = time.time()\n",
    "\n",
    "my_nn = neural_network([784,784/2, 10])\n",
    "cost = my_nn.fit(minst_train, label_train, batch_size = 100,\n",
    "                 Lambda = 1e-4, learning_rate = 0.01,\n",
    "                 epochs = 25, return_cost = True,\n",
    "                 velocity_coef = 0.3,\n",
    "                 test_x = minst_test[0:1000],\n",
    "                 test_y = label_test[0:1000])\n",
    "\n",
    "t1 = time.time()\n",
    "t1 - t0"
   ]
  },
  {
   "cell_type": "code",
   "execution_count": 192,
   "metadata": {
    "collapsed": false,
    "scrolled": false
   },
   "outputs": [
    {
     "name": "stdout",
     "output_type": "stream",
     "text": [
      "[[790   0   2   3   2  14   5   1  13]\n",
      " [  0 929   2   6   2   3   1   1   5]\n",
      " [  7  10 759  24   7   8  22  12  17]\n",
      " [  1   7  22 758   3  58   7   8  34]\n",
      " [  2   2   3   2 681  15  13   3   8]\n",
      " [  9   2   7  27   6 654   9   4  17]\n",
      " [ 11   3   5   1  12  29 732   1   6]\n",
      " [  7  11   7   7  11   8   1 779   8]\n",
      " [  3   9  14  30   7  46   7   8 674]]\n",
      "             precision    recall  f1-score   support\n",
      "\n",
      "          0       0.94      0.95      0.95       830\n",
      "          1       0.95      0.98      0.96       950\n",
      "          2       0.92      0.87      0.89       872\n",
      "          3       0.87      0.84      0.85       905\n",
      "          4       0.85      0.88      0.87       771\n",
      "          5       0.77      0.88      0.82       740\n",
      "          6       0.91      0.92      0.91       800\n",
      "          7       0.90      0.90      0.90       863\n",
      "          8       0.83      0.84      0.84       804\n",
      "          9       0.88      0.78      0.83       865\n",
      "\n",
      "avg / total       0.89      0.88      0.88      8400\n",
      "\n"
     ]
    },
    {
     "data": {
      "text/plain": [
       "[<matplotlib.lines.Line2D at 0x30dc4a58>]"
      ]
     },
     "execution_count": 192,
     "metadata": {},
     "output_type": "execute_result"
    },
    {
     "data": {
      "image/png": "[encoded data removed]",
      "text/plain": [
       "<matplotlib.figure.Figure at 0x289cce10>"
      ]
     },
     "metadata": {},
     "output_type": "display_data"
    }
   ],
   "source": [
    "yhat = my_nn.predict(minst_test)\n",
    "yhat_vec = np.argmax(yhat, axis = 1)\n",
    "print confusion_matrix(np.argmax(label_test, axis = 1),\n",
    "                       yhat_vec, labels = range(9))\n",
    "\n",
    "print classification_report(np.argmax(label_test, axis = 1),\n",
    "                            yhat_vec)\n",
    "plt.plot(np.array(cost)/len(label_test))"
   ]
  }
 ],
 "metadata": {
  "kernelspec": {
   "display_name": "Python 2",
   "language": "python",
   "name": "python2"
  },
  "language_info": {
   "codemirror_mode": {
    "name": "ipython",
    "version": 2
   },
   "file_extension": ".py",
   "mimetype": "text/x-python",
   "name": "python",
   "nbconvert_exporter": "python",
   "pygments_lexer": "ipython2",
   "version": "2.7.9"
  }
 },
 "nbformat": 4,
 "nbformat_minor": 0
}
